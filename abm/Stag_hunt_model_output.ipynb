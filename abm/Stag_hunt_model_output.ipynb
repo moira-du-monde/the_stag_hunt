{
  "nbformat": 4,
  "nbformat_minor": 0,
  "metadata": {
    "colab": {
      "name": "Stag_hunt_model_output.ipynb",
      "provenance": [],
      "collapsed_sections": [],
      "mount_file_id": "1ehRU39UPRAsZkAcqXCfe_6S2uxNWhKGf",
      "authorship_tag": "ABX9TyNy54tacN4HGhwEsFzPqCK9",
      "include_colab_link": true
    },
    "kernelspec": {
      "name": "python3",
      "display_name": "Python 3"
    },
    "language_info": {
      "name": "python"
    }
  },
  "cells": [
    {
      "cell_type": "markdown",
      "metadata": {
        "id": "view-in-github",
        "colab_type": "text"
      },
      "source": [
        "<a href=\"https://colab.research.google.com/github/moira-du-monde/the_stag_hunt/blob/main/Stag_hunt_model_output.ipynb\" target=\"_parent\"><img src=\"https://colab.research.google.com/assets/colab-badge.svg\" alt=\"Open In Colab\"/></a>"
      ]
    },
    {
      "cell_type": "markdown",
      "source": [
        "**Agent-based model (ABM) output analysis**\n",
        "\n",
        "The code in this notebook is used to visually and statistically analyze the output from the Stag Hunt ABM in the paper \"Coordination games and regional economic transitions\" (under review, 2022)."
      ],
      "metadata": {
        "id": "ranqXvh3LKAi"
      }
    },
    {
      "cell_type": "code",
      "execution_count": null,
      "metadata": {
        "id": "cBCpd1odK4Mb"
      },
      "outputs": [],
      "source": [
        "import pandas as pd\n",
        "import numpy as np\n",
        "import matplotlib.pyplot as plt"
      ]
    },
    {
      "cell_type": "markdown",
      "source": [
        "The BehaviorSpace tool within the NetLogo software allows users to run experiments with different parameter values (unique and/or within a specified range) for a given number of trial runs.\n",
        "\n",
        "Based on the interview data, initial parameter values are set to: density = 47, trust = 30, optimism = 35, communication = 50, and leader? = no.\n",
        "\n",
        "Load in the data from 100 trial runs and wrangle into single dataframe."
      ],
      "metadata": {
        "id": "xRypPqYINm1D"
      }
    },
    {
      "cell_type": "code",
      "source": [
        "\n",
        "df = pd.read_csv('/content/drive/MyDrive/Stag Hunt Viz/sh_results.csv')\n",
        "\n",
        "\n",
        "#geozbp = geozbp.pivot(index=['zipcode','naics'], columns='year',values='estab')\n",
        "\n",
        "\n",
        "\n",
        "df.tail()\n"
      ],
      "metadata": {
        "colab": {
          "base_uri": "https://localhost:8080/",
          "height": 317
        },
        "id": "W9CNO0sUOT5c",
        "outputId": "dba8e49d-9550-428f-d9c1-83e043dae894"
      },
      "execution_count": null,
      "outputs": [
        {
          "output_type": "execute_result",
          "data": {
            "text/plain": [
              "       flash            1            2            3            4            5  \\\n",
              "3         av  7.097902098  0.058941059  58.83616384  49.20679321  11.91708292   \n",
              "4      steps         1000         1000         1000         1000         1000   \n",
              "5      round            1            1            1            1            2   \n",
              "6      code_            a            b            c            d            a   \n",
              "7  code_plus           1a           1b           1c           1d           2a   \n",
              "\n",
              "             6            7           8            9  ... Unnamed: 391  \\\n",
              "3  0.440559441  63.00799201  55.6973027  7.048951049  ...  53.37462537   \n",
              "4         1000         1000        1000         1000  ...         1000   \n",
              "5            2            2           2            3  ...           98   \n",
              "6            b            c           d            a  ...            c   \n",
              "7           2b           2c          2d           3a  ...          98c   \n",
              "\n",
              "  Unnamed: 392 Unnamed: 393 Unnamed: 394 Unnamed: 395 Unnamed: 396  \\\n",
              "3  40.84215784  3.955044955  0.015984016  71.96903097  68.41758242   \n",
              "4         1000         1000         1000         1000         1000   \n",
              "5           98           99           99           99           99   \n",
              "6            d            a            b            c            d   \n",
              "7          98d          99a          99b          99c          99d   \n",
              "\n",
              "  Unnamed: 397 Unnamed: 398 Unnamed: 399 Unnamed: 400  \n",
              "3  10.49250749  0.226773227  61.43556444  53.48651349  \n",
              "4         1000         1000         1000         1000  \n",
              "5          100          100          100          100  \n",
              "6            a            b            c            d  \n",
              "7         100a         100b         100c         100d  \n",
              "\n",
              "[5 rows x 401 columns]"
            ],
            "text/html": [
              "\n",
              "  <div id=\"df-3cfb0725-53e2-4c89-a9d5-fa00f80d29ca\">\n",
              "    <div class=\"colab-df-container\">\n",
              "      <div>\n",
              "<style scoped>\n",
              "    .dataframe tbody tr th:only-of-type {\n",
              "        vertical-align: middle;\n",
              "    }\n",
              "\n",
              "    .dataframe tbody tr th {\n",
              "        vertical-align: top;\n",
              "    }\n",
              "\n",
              "    .dataframe thead th {\n",
              "        text-align: right;\n",
              "    }\n",
              "</style>\n",
              "<table border=\"1\" class=\"dataframe\">\n",
              "  <thead>\n",
              "    <tr style=\"text-align: right;\">\n",
              "      <th></th>\n",
              "      <th>flash</th>\n",
              "      <th>1</th>\n",
              "      <th>2</th>\n",
              "      <th>3</th>\n",
              "      <th>4</th>\n",
              "      <th>5</th>\n",
              "      <th>6</th>\n",
              "      <th>7</th>\n",
              "      <th>8</th>\n",
              "      <th>9</th>\n",
              "      <th>...</th>\n",
              "      <th>Unnamed: 391</th>\n",
              "      <th>Unnamed: 392</th>\n",
              "      <th>Unnamed: 393</th>\n",
              "      <th>Unnamed: 394</th>\n",
              "      <th>Unnamed: 395</th>\n",
              "      <th>Unnamed: 396</th>\n",
              "      <th>Unnamed: 397</th>\n",
              "      <th>Unnamed: 398</th>\n",
              "      <th>Unnamed: 399</th>\n",
              "      <th>Unnamed: 400</th>\n",
              "    </tr>\n",
              "  </thead>\n",
              "  <tbody>\n",
              "    <tr>\n",
              "      <th>3</th>\n",
              "      <td>av</td>\n",
              "      <td>7.097902098</td>\n",
              "      <td>0.058941059</td>\n",
              "      <td>58.83616384</td>\n",
              "      <td>49.20679321</td>\n",
              "      <td>11.91708292</td>\n",
              "      <td>0.440559441</td>\n",
              "      <td>63.00799201</td>\n",
              "      <td>55.6973027</td>\n",
              "      <td>7.048951049</td>\n",
              "      <td>...</td>\n",
              "      <td>53.37462537</td>\n",
              "      <td>40.84215784</td>\n",
              "      <td>3.955044955</td>\n",
              "      <td>0.015984016</td>\n",
              "      <td>71.96903097</td>\n",
              "      <td>68.41758242</td>\n",
              "      <td>10.49250749</td>\n",
              "      <td>0.226773227</td>\n",
              "      <td>61.43556444</td>\n",
              "      <td>53.48651349</td>\n",
              "    </tr>\n",
              "    <tr>\n",
              "      <th>4</th>\n",
              "      <td>steps</td>\n",
              "      <td>1000</td>\n",
              "      <td>1000</td>\n",
              "      <td>1000</td>\n",
              "      <td>1000</td>\n",
              "      <td>1000</td>\n",
              "      <td>1000</td>\n",
              "      <td>1000</td>\n",
              "      <td>1000</td>\n",
              "      <td>1000</td>\n",
              "      <td>...</td>\n",
              "      <td>1000</td>\n",
              "      <td>1000</td>\n",
              "      <td>1000</td>\n",
              "      <td>1000</td>\n",
              "      <td>1000</td>\n",
              "      <td>1000</td>\n",
              "      <td>1000</td>\n",
              "      <td>1000</td>\n",
              "      <td>1000</td>\n",
              "      <td>1000</td>\n",
              "    </tr>\n",
              "    <tr>\n",
              "      <th>5</th>\n",
              "      <td>round</td>\n",
              "      <td>1</td>\n",
              "      <td>1</td>\n",
              "      <td>1</td>\n",
              "      <td>1</td>\n",
              "      <td>2</td>\n",
              "      <td>2</td>\n",
              "      <td>2</td>\n",
              "      <td>2</td>\n",
              "      <td>3</td>\n",
              "      <td>...</td>\n",
              "      <td>98</td>\n",
              "      <td>98</td>\n",
              "      <td>99</td>\n",
              "      <td>99</td>\n",
              "      <td>99</td>\n",
              "      <td>99</td>\n",
              "      <td>100</td>\n",
              "      <td>100</td>\n",
              "      <td>100</td>\n",
              "      <td>100</td>\n",
              "    </tr>\n",
              "    <tr>\n",
              "      <th>6</th>\n",
              "      <td>code_</td>\n",
              "      <td>a</td>\n",
              "      <td>b</td>\n",
              "      <td>c</td>\n",
              "      <td>d</td>\n",
              "      <td>a</td>\n",
              "      <td>b</td>\n",
              "      <td>c</td>\n",
              "      <td>d</td>\n",
              "      <td>a</td>\n",
              "      <td>...</td>\n",
              "      <td>c</td>\n",
              "      <td>d</td>\n",
              "      <td>a</td>\n",
              "      <td>b</td>\n",
              "      <td>c</td>\n",
              "      <td>d</td>\n",
              "      <td>a</td>\n",
              "      <td>b</td>\n",
              "      <td>c</td>\n",
              "      <td>d</td>\n",
              "    </tr>\n",
              "    <tr>\n",
              "      <th>7</th>\n",
              "      <td>code_plus</td>\n",
              "      <td>1a</td>\n",
              "      <td>1b</td>\n",
              "      <td>1c</td>\n",
              "      <td>1d</td>\n",
              "      <td>2a</td>\n",
              "      <td>2b</td>\n",
              "      <td>2c</td>\n",
              "      <td>2d</td>\n",
              "      <td>3a</td>\n",
              "      <td>...</td>\n",
              "      <td>98c</td>\n",
              "      <td>98d</td>\n",
              "      <td>99a</td>\n",
              "      <td>99b</td>\n",
              "      <td>99c</td>\n",
              "      <td>99d</td>\n",
              "      <td>100a</td>\n",
              "      <td>100b</td>\n",
              "      <td>100c</td>\n",
              "      <td>100d</td>\n",
              "    </tr>\n",
              "  </tbody>\n",
              "</table>\n",
              "<p>5 rows × 401 columns</p>\n",
              "</div>\n",
              "      <button class=\"colab-df-convert\" onclick=\"convertToInteractive('df-3cfb0725-53e2-4c89-a9d5-fa00f80d29ca')\"\n",
              "              title=\"Convert this dataframe to an interactive table.\"\n",
              "              style=\"display:none;\">\n",
              "        \n",
              "  <svg xmlns=\"http://www.w3.org/2000/svg\" height=\"24px\"viewBox=\"0 0 24 24\"\n",
              "       width=\"24px\">\n",
              "    <path d=\"M0 0h24v24H0V0z\" fill=\"none\"/>\n",
              "    <path d=\"M18.56 5.44l.94 2.06.94-2.06 2.06-.94-2.06-.94-.94-2.06-.94 2.06-2.06.94zm-11 1L8.5 8.5l.94-2.06 2.06-.94-2.06-.94L8.5 2.5l-.94 2.06-2.06.94zm10 10l.94 2.06.94-2.06 2.06-.94-2.06-.94-.94-2.06-.94 2.06-2.06.94z\"/><path d=\"M17.41 7.96l-1.37-1.37c-.4-.4-.92-.59-1.43-.59-.52 0-1.04.2-1.43.59L10.3 9.45l-7.72 7.72c-.78.78-.78 2.05 0 2.83L4 21.41c.39.39.9.59 1.41.59.51 0 1.02-.2 1.41-.59l7.78-7.78 2.81-2.81c.8-.78.8-2.07 0-2.86zM5.41 20L4 18.59l7.72-7.72 1.47 1.35L5.41 20z\"/>\n",
              "  </svg>\n",
              "      </button>\n",
              "      \n",
              "  <style>\n",
              "    .colab-df-container {\n",
              "      display:flex;\n",
              "      flex-wrap:wrap;\n",
              "      gap: 12px;\n",
              "    }\n",
              "\n",
              "    .colab-df-convert {\n",
              "      background-color: #E8F0FE;\n",
              "      border: none;\n",
              "      border-radius: 50%;\n",
              "      cursor: pointer;\n",
              "      display: none;\n",
              "      fill: #1967D2;\n",
              "      height: 32px;\n",
              "      padding: 0 0 0 0;\n",
              "      width: 32px;\n",
              "    }\n",
              "\n",
              "    .colab-df-convert:hover {\n",
              "      background-color: #E2EBFA;\n",
              "      box-shadow: 0px 1px 2px rgba(60, 64, 67, 0.3), 0px 1px 3px 1px rgba(60, 64, 67, 0.15);\n",
              "      fill: #174EA6;\n",
              "    }\n",
              "\n",
              "    [theme=dark] .colab-df-convert {\n",
              "      background-color: #3B4455;\n",
              "      fill: #D2E3FC;\n",
              "    }\n",
              "\n",
              "    [theme=dark] .colab-df-convert:hover {\n",
              "      background-color: #434B5C;\n",
              "      box-shadow: 0px 1px 3px 1px rgba(0, 0, 0, 0.15);\n",
              "      filter: drop-shadow(0px 1px 2px rgba(0, 0, 0, 0.3));\n",
              "      fill: #FFFFFF;\n",
              "    }\n",
              "  </style>\n",
              "\n",
              "      <script>\n",
              "        const buttonEl =\n",
              "          document.querySelector('#df-3cfb0725-53e2-4c89-a9d5-fa00f80d29ca button.colab-df-convert');\n",
              "        buttonEl.style.display =\n",
              "          google.colab.kernel.accessAllowed ? 'block' : 'none';\n",
              "\n",
              "        async function convertToInteractive(key) {\n",
              "          const element = document.querySelector('#df-3cfb0725-53e2-4c89-a9d5-fa00f80d29ca');\n",
              "          const dataTable =\n",
              "            await google.colab.kernel.invokeFunction('convertToInteractive',\n",
              "                                                     [key], {});\n",
              "          if (!dataTable) return;\n",
              "\n",
              "          const docLinkHtml = 'Like what you see? Visit the ' +\n",
              "            '<a target=\"_blank\" href=https://colab.research.google.com/notebooks/data_table.ipynb>data table notebook</a>'\n",
              "            + ' to learn more about interactive tables.';\n",
              "          element.innerHTML = '';\n",
              "          dataTable['output_type'] = 'display_data';\n",
              "          await google.colab.output.renderOutput(dataTable, element);\n",
              "          const docLink = document.createElement('div');\n",
              "          docLink.innerHTML = docLinkHtml;\n",
              "          element.appendChild(docLink);\n",
              "        }\n",
              "      </script>\n",
              "    </div>\n",
              "  </div>\n",
              "  "
            ]
          },
          "metadata": {},
          "execution_count": 63
        }
      ]
    },
    {
      "cell_type": "code",
      "source": [
        "df = df.T\n",
        "\n"
      ],
      "metadata": {
        "colab": {
          "base_uri": "https://localhost:8080/",
          "height": 269
        },
        "id": "8fwKgpgsvbNL",
        "outputId": "38d7378a-4f0a-40df-c8f9-444656182c9f"
      },
      "execution_count": null,
      "outputs": [
        {
          "output_type": "execute_result",
          "data": {
            "text/plain": [
              "           0      1      2            3      4      5      6          7\n",
              "flash  final  minim  maxim           av  steps  round  code_  code_plus\n",
              "1          5      0     19  7.097902098   1000      1      a         1a\n",
              "2          0      0      7  0.058941059   1000      1      b         1b\n",
              "3         61      0     64  58.83616384   1000      1      c         1c\n",
              "4         54      0     60  49.20679321   1000      1      d         1d\n",
              "5         10      0     26  11.91708292   1000      2      a         2a\n",
              "6          0      0      7  0.440559441   1000      2      b         2b"
            ],
            "text/html": [
              "\n",
              "  <div id=\"df-64a320ed-3a8a-4193-afba-cac491df1949\">\n",
              "    <div class=\"colab-df-container\">\n",
              "      <div>\n",
              "<style scoped>\n",
              "    .dataframe tbody tr th:only-of-type {\n",
              "        vertical-align: middle;\n",
              "    }\n",
              "\n",
              "    .dataframe tbody tr th {\n",
              "        vertical-align: top;\n",
              "    }\n",
              "\n",
              "    .dataframe thead th {\n",
              "        text-align: right;\n",
              "    }\n",
              "</style>\n",
              "<table border=\"1\" class=\"dataframe\">\n",
              "  <thead>\n",
              "    <tr style=\"text-align: right;\">\n",
              "      <th></th>\n",
              "      <th>0</th>\n",
              "      <th>1</th>\n",
              "      <th>2</th>\n",
              "      <th>3</th>\n",
              "      <th>4</th>\n",
              "      <th>5</th>\n",
              "      <th>6</th>\n",
              "      <th>7</th>\n",
              "    </tr>\n",
              "  </thead>\n",
              "  <tbody>\n",
              "    <tr>\n",
              "      <th>flash</th>\n",
              "      <td>final</td>\n",
              "      <td>minim</td>\n",
              "      <td>maxim</td>\n",
              "      <td>av</td>\n",
              "      <td>steps</td>\n",
              "      <td>round</td>\n",
              "      <td>code_</td>\n",
              "      <td>code_plus</td>\n",
              "    </tr>\n",
              "    <tr>\n",
              "      <th>1</th>\n",
              "      <td>5</td>\n",
              "      <td>0</td>\n",
              "      <td>19</td>\n",
              "      <td>7.097902098</td>\n",
              "      <td>1000</td>\n",
              "      <td>1</td>\n",
              "      <td>a</td>\n",
              "      <td>1a</td>\n",
              "    </tr>\n",
              "    <tr>\n",
              "      <th>2</th>\n",
              "      <td>0</td>\n",
              "      <td>0</td>\n",
              "      <td>7</td>\n",
              "      <td>0.058941059</td>\n",
              "      <td>1000</td>\n",
              "      <td>1</td>\n",
              "      <td>b</td>\n",
              "      <td>1b</td>\n",
              "    </tr>\n",
              "    <tr>\n",
              "      <th>3</th>\n",
              "      <td>61</td>\n",
              "      <td>0</td>\n",
              "      <td>64</td>\n",
              "      <td>58.83616384</td>\n",
              "      <td>1000</td>\n",
              "      <td>1</td>\n",
              "      <td>c</td>\n",
              "      <td>1c</td>\n",
              "    </tr>\n",
              "    <tr>\n",
              "      <th>4</th>\n",
              "      <td>54</td>\n",
              "      <td>0</td>\n",
              "      <td>60</td>\n",
              "      <td>49.20679321</td>\n",
              "      <td>1000</td>\n",
              "      <td>1</td>\n",
              "      <td>d</td>\n",
              "      <td>1d</td>\n",
              "    </tr>\n",
              "    <tr>\n",
              "      <th>5</th>\n",
              "      <td>10</td>\n",
              "      <td>0</td>\n",
              "      <td>26</td>\n",
              "      <td>11.91708292</td>\n",
              "      <td>1000</td>\n",
              "      <td>2</td>\n",
              "      <td>a</td>\n",
              "      <td>2a</td>\n",
              "    </tr>\n",
              "    <tr>\n",
              "      <th>6</th>\n",
              "      <td>0</td>\n",
              "      <td>0</td>\n",
              "      <td>7</td>\n",
              "      <td>0.440559441</td>\n",
              "      <td>1000</td>\n",
              "      <td>2</td>\n",
              "      <td>b</td>\n",
              "      <td>2b</td>\n",
              "    </tr>\n",
              "  </tbody>\n",
              "</table>\n",
              "</div>\n",
              "      <button class=\"colab-df-convert\" onclick=\"convertToInteractive('df-64a320ed-3a8a-4193-afba-cac491df1949')\"\n",
              "              title=\"Convert this dataframe to an interactive table.\"\n",
              "              style=\"display:none;\">\n",
              "        \n",
              "  <svg xmlns=\"http://www.w3.org/2000/svg\" height=\"24px\"viewBox=\"0 0 24 24\"\n",
              "       width=\"24px\">\n",
              "    <path d=\"M0 0h24v24H0V0z\" fill=\"none\"/>\n",
              "    <path d=\"M18.56 5.44l.94 2.06.94-2.06 2.06-.94-2.06-.94-.94-2.06-.94 2.06-2.06.94zm-11 1L8.5 8.5l.94-2.06 2.06-.94-2.06-.94L8.5 2.5l-.94 2.06-2.06.94zm10 10l.94 2.06.94-2.06 2.06-.94-2.06-.94-.94-2.06-.94 2.06-2.06.94z\"/><path d=\"M17.41 7.96l-1.37-1.37c-.4-.4-.92-.59-1.43-.59-.52 0-1.04.2-1.43.59L10.3 9.45l-7.72 7.72c-.78.78-.78 2.05 0 2.83L4 21.41c.39.39.9.59 1.41.59.51 0 1.02-.2 1.41-.59l7.78-7.78 2.81-2.81c.8-.78.8-2.07 0-2.86zM5.41 20L4 18.59l7.72-7.72 1.47 1.35L5.41 20z\"/>\n",
              "  </svg>\n",
              "      </button>\n",
              "      \n",
              "  <style>\n",
              "    .colab-df-container {\n",
              "      display:flex;\n",
              "      flex-wrap:wrap;\n",
              "      gap: 12px;\n",
              "    }\n",
              "\n",
              "    .colab-df-convert {\n",
              "      background-color: #E8F0FE;\n",
              "      border: none;\n",
              "      border-radius: 50%;\n",
              "      cursor: pointer;\n",
              "      display: none;\n",
              "      fill: #1967D2;\n",
              "      height: 32px;\n",
              "      padding: 0 0 0 0;\n",
              "      width: 32px;\n",
              "    }\n",
              "\n",
              "    .colab-df-convert:hover {\n",
              "      background-color: #E2EBFA;\n",
              "      box-shadow: 0px 1px 2px rgba(60, 64, 67, 0.3), 0px 1px 3px 1px rgba(60, 64, 67, 0.15);\n",
              "      fill: #174EA6;\n",
              "    }\n",
              "\n",
              "    [theme=dark] .colab-df-convert {\n",
              "      background-color: #3B4455;\n",
              "      fill: #D2E3FC;\n",
              "    }\n",
              "\n",
              "    [theme=dark] .colab-df-convert:hover {\n",
              "      background-color: #434B5C;\n",
              "      box-shadow: 0px 1px 3px 1px rgba(0, 0, 0, 0.15);\n",
              "      filter: drop-shadow(0px 1px 2px rgba(0, 0, 0, 0.3));\n",
              "      fill: #FFFFFF;\n",
              "    }\n",
              "  </style>\n",
              "\n",
              "      <script>\n",
              "        const buttonEl =\n",
              "          document.querySelector('#df-64a320ed-3a8a-4193-afba-cac491df1949 button.colab-df-convert');\n",
              "        buttonEl.style.display =\n",
              "          google.colab.kernel.accessAllowed ? 'block' : 'none';\n",
              "\n",
              "        async function convertToInteractive(key) {\n",
              "          const element = document.querySelector('#df-64a320ed-3a8a-4193-afba-cac491df1949');\n",
              "          const dataTable =\n",
              "            await google.colab.kernel.invokeFunction('convertToInteractive',\n",
              "                                                     [key], {});\n",
              "          if (!dataTable) return;\n",
              "\n",
              "          const docLinkHtml = 'Like what you see? Visit the ' +\n",
              "            '<a target=\"_blank\" href=https://colab.research.google.com/notebooks/data_table.ipynb>data table notebook</a>'\n",
              "            + ' to learn more about interactive tables.';\n",
              "          element.innerHTML = '';\n",
              "          dataTable['output_type'] = 'display_data';\n",
              "          await google.colab.output.renderOutput(dataTable, element);\n",
              "          const docLink = document.createElement('div');\n",
              "          docLink.innerHTML = docLinkHtml;\n",
              "          element.appendChild(docLink);\n",
              "        }\n",
              "      </script>\n",
              "    </div>\n",
              "  </div>\n",
              "  "
            ]
          },
          "metadata": {},
          "execution_count": 64
        }
      ]
    },
    {
      "cell_type": "code",
      "source": [
        "df.columns = df.iloc[0] \n",
        "\n",
        "df = df[1:]\n",
        "\n",
        "df.head()"
      ],
      "metadata": {
        "colab": {
          "base_uri": "https://localhost:8080/",
          "height": 206
        },
        "id": "GmeqTtWTw6P1",
        "outputId": "2a61b520-b3e0-4f15-c20c-57264eb3032e"
      },
      "execution_count": null,
      "outputs": [
        {
          "output_type": "execute_result",
          "data": {
            "text/plain": [
              "flash final minim maxim           av steps round code_ code_plus\n",
              "1         5     0    19  7.097902098  1000     1     a        1a\n",
              "2         0     0     7  0.058941059  1000     1     b        1b\n",
              "3        61     0    64  58.83616384  1000     1     c        1c\n",
              "4        54     0    60  49.20679321  1000     1     d        1d\n",
              "5        10     0    26  11.91708292  1000     2     a        2a"
            ],
            "text/html": [
              "\n",
              "  <div id=\"df-9b29e591-fb7e-4df3-8039-be84ca663a4f\">\n",
              "    <div class=\"colab-df-container\">\n",
              "      <div>\n",
              "<style scoped>\n",
              "    .dataframe tbody tr th:only-of-type {\n",
              "        vertical-align: middle;\n",
              "    }\n",
              "\n",
              "    .dataframe tbody tr th {\n",
              "        vertical-align: top;\n",
              "    }\n",
              "\n",
              "    .dataframe thead th {\n",
              "        text-align: right;\n",
              "    }\n",
              "</style>\n",
              "<table border=\"1\" class=\"dataframe\">\n",
              "  <thead>\n",
              "    <tr style=\"text-align: right;\">\n",
              "      <th>flash</th>\n",
              "      <th>final</th>\n",
              "      <th>minim</th>\n",
              "      <th>maxim</th>\n",
              "      <th>av</th>\n",
              "      <th>steps</th>\n",
              "      <th>round</th>\n",
              "      <th>code_</th>\n",
              "      <th>code_plus</th>\n",
              "    </tr>\n",
              "  </thead>\n",
              "  <tbody>\n",
              "    <tr>\n",
              "      <th>1</th>\n",
              "      <td>5</td>\n",
              "      <td>0</td>\n",
              "      <td>19</td>\n",
              "      <td>7.097902098</td>\n",
              "      <td>1000</td>\n",
              "      <td>1</td>\n",
              "      <td>a</td>\n",
              "      <td>1a</td>\n",
              "    </tr>\n",
              "    <tr>\n",
              "      <th>2</th>\n",
              "      <td>0</td>\n",
              "      <td>0</td>\n",
              "      <td>7</td>\n",
              "      <td>0.058941059</td>\n",
              "      <td>1000</td>\n",
              "      <td>1</td>\n",
              "      <td>b</td>\n",
              "      <td>1b</td>\n",
              "    </tr>\n",
              "    <tr>\n",
              "      <th>3</th>\n",
              "      <td>61</td>\n",
              "      <td>0</td>\n",
              "      <td>64</td>\n",
              "      <td>58.83616384</td>\n",
              "      <td>1000</td>\n",
              "      <td>1</td>\n",
              "      <td>c</td>\n",
              "      <td>1c</td>\n",
              "    </tr>\n",
              "    <tr>\n",
              "      <th>4</th>\n",
              "      <td>54</td>\n",
              "      <td>0</td>\n",
              "      <td>60</td>\n",
              "      <td>49.20679321</td>\n",
              "      <td>1000</td>\n",
              "      <td>1</td>\n",
              "      <td>d</td>\n",
              "      <td>1d</td>\n",
              "    </tr>\n",
              "    <tr>\n",
              "      <th>5</th>\n",
              "      <td>10</td>\n",
              "      <td>0</td>\n",
              "      <td>26</td>\n",
              "      <td>11.91708292</td>\n",
              "      <td>1000</td>\n",
              "      <td>2</td>\n",
              "      <td>a</td>\n",
              "      <td>2a</td>\n",
              "    </tr>\n",
              "  </tbody>\n",
              "</table>\n",
              "</div>\n",
              "      <button class=\"colab-df-convert\" onclick=\"convertToInteractive('df-9b29e591-fb7e-4df3-8039-be84ca663a4f')\"\n",
              "              title=\"Convert this dataframe to an interactive table.\"\n",
              "              style=\"display:none;\">\n",
              "        \n",
              "  <svg xmlns=\"http://www.w3.org/2000/svg\" height=\"24px\"viewBox=\"0 0 24 24\"\n",
              "       width=\"24px\">\n",
              "    <path d=\"M0 0h24v24H0V0z\" fill=\"none\"/>\n",
              "    <path d=\"M18.56 5.44l.94 2.06.94-2.06 2.06-.94-2.06-.94-.94-2.06-.94 2.06-2.06.94zm-11 1L8.5 8.5l.94-2.06 2.06-.94-2.06-.94L8.5 2.5l-.94 2.06-2.06.94zm10 10l.94 2.06.94-2.06 2.06-.94-2.06-.94-.94-2.06-.94 2.06-2.06.94z\"/><path d=\"M17.41 7.96l-1.37-1.37c-.4-.4-.92-.59-1.43-.59-.52 0-1.04.2-1.43.59L10.3 9.45l-7.72 7.72c-.78.78-.78 2.05 0 2.83L4 21.41c.39.39.9.59 1.41.59.51 0 1.02-.2 1.41-.59l7.78-7.78 2.81-2.81c.8-.78.8-2.07 0-2.86zM5.41 20L4 18.59l7.72-7.72 1.47 1.35L5.41 20z\"/>\n",
              "  </svg>\n",
              "      </button>\n",
              "      \n",
              "  <style>\n",
              "    .colab-df-container {\n",
              "      display:flex;\n",
              "      flex-wrap:wrap;\n",
              "      gap: 12px;\n",
              "    }\n",
              "\n",
              "    .colab-df-convert {\n",
              "      background-color: #E8F0FE;\n",
              "      border: none;\n",
              "      border-radius: 50%;\n",
              "      cursor: pointer;\n",
              "      display: none;\n",
              "      fill: #1967D2;\n",
              "      height: 32px;\n",
              "      padding: 0 0 0 0;\n",
              "      width: 32px;\n",
              "    }\n",
              "\n",
              "    .colab-df-convert:hover {\n",
              "      background-color: #E2EBFA;\n",
              "      box-shadow: 0px 1px 2px rgba(60, 64, 67, 0.3), 0px 1px 3px 1px rgba(60, 64, 67, 0.15);\n",
              "      fill: #174EA6;\n",
              "    }\n",
              "\n",
              "    [theme=dark] .colab-df-convert {\n",
              "      background-color: #3B4455;\n",
              "      fill: #D2E3FC;\n",
              "    }\n",
              "\n",
              "    [theme=dark] .colab-df-convert:hover {\n",
              "      background-color: #434B5C;\n",
              "      box-shadow: 0px 1px 3px 1px rgba(0, 0, 0, 0.15);\n",
              "      filter: drop-shadow(0px 1px 2px rgba(0, 0, 0, 0.3));\n",
              "      fill: #FFFFFF;\n",
              "    }\n",
              "  </style>\n",
              "\n",
              "      <script>\n",
              "        const buttonEl =\n",
              "          document.querySelector('#df-9b29e591-fb7e-4df3-8039-be84ca663a4f button.colab-df-convert');\n",
              "        buttonEl.style.display =\n",
              "          google.colab.kernel.accessAllowed ? 'block' : 'none';\n",
              "\n",
              "        async function convertToInteractive(key) {\n",
              "          const element = document.querySelector('#df-9b29e591-fb7e-4df3-8039-be84ca663a4f');\n",
              "          const dataTable =\n",
              "            await google.colab.kernel.invokeFunction('convertToInteractive',\n",
              "                                                     [key], {});\n",
              "          if (!dataTable) return;\n",
              "\n",
              "          const docLinkHtml = 'Like what you see? Visit the ' +\n",
              "            '<a target=\"_blank\" href=https://colab.research.google.com/notebooks/data_table.ipynb>data table notebook</a>'\n",
              "            + ' to learn more about interactive tables.';\n",
              "          element.innerHTML = '';\n",
              "          dataTable['output_type'] = 'display_data';\n",
              "          await google.colab.output.renderOutput(dataTable, element);\n",
              "          const docLink = document.createElement('div');\n",
              "          docLink.innerHTML = docLinkHtml;\n",
              "          element.appendChild(docLink);\n",
              "        }\n",
              "      </script>\n",
              "    </div>\n",
              "  </div>\n",
              "  "
            ]
          },
          "metadata": {},
          "execution_count": 65
        }
      ]
    },
    {
      "cell_type": "code",
      "source": [
        "print('Existing datatype:\\n',df.dtypes)"
      ],
      "metadata": {
        "colab": {
          "base_uri": "https://localhost:8080/"
        },
        "id": "6fgYkxYc0zVp",
        "outputId": "5c81d87c-5c26-42cd-f9c0-0c8620a90030"
      },
      "execution_count": null,
      "outputs": [
        {
          "output_type": "stream",
          "name": "stdout",
          "text": [
            "Existing datatype:\n",
            " flash\n",
            "final        object\n",
            "minim        object\n",
            "maxim        object\n",
            "av           object\n",
            "steps        object\n",
            "round        object\n",
            "code_        object\n",
            "code_plus    object\n",
            "dtype: object\n"
          ]
        }
      ]
    },
    {
      "cell_type": "code",
      "source": [
        "df['code_'] = df['code_'].astype(str)\n",
        "df.final = pd.to_numeric(df.final)\n",
        "df.minim = pd.to_numeric(df.minim)\n",
        "df.maxim = pd.to_numeric(df.maxim)\n",
        "df.av = pd.to_numeric(df.av)\n",
        "df.steps = pd.to_numeric(df.steps)\n",
        "\n",
        "\n",
        "stag_global = df.loc[df['code_']=='a']\n",
        "stag_local = df.loc[df['code_']=='b']\n",
        "hare_global = df.loc[df['code_']=='c']\n",
        "hare_local = df.loc[df['code_']=='d']"
      ],
      "metadata": {
        "id": "xaB6d6ep1X1L"
      },
      "execution_count": null,
      "outputs": []
    },
    {
      "cell_type": "code",
      "source": [
        "stag_global.maxim.plot(kind = 'hist')\n",
        "\n",
        "plt.xlim([0,100])\n",
        "plt.ylim([0,30])\n",
        "plt.xlabel('stag_global max')"
      ],
      "metadata": {
        "colab": {
          "base_uri": "https://localhost:8080/",
          "height": 301
        },
        "id": "6Qx_HkFjrXXo",
        "outputId": "4655fbd0-1fbc-4d23-ba2c-ba3d8a2a2907"
      },
      "execution_count": null,
      "outputs": [
        {
          "output_type": "execute_result",
          "data": {
            "text/plain": [
              "Text(0.5, 0, 'stag_global max')"
            ]
          },
          "metadata": {},
          "execution_count": 98
        },
        {
          "output_type": "display_data",
          "data": {
            "text/plain": [
              "<Figure size 432x288 with 1 Axes>"
            ],
            "image/png": "[encoded data removed]"
          },
          "metadata": {
            "needs_background": "light"
          }
        }
      ]
    },
    {
      "cell_type": "code",
      "source": [
        "stag_local.maxim.plot(kind = 'hist')\n",
        "\n",
        "plt.xlim([0,100])\n",
        "plt.ylim([0,30])\n",
        "plt.xlabel('stag_local max')"
      ],
      "metadata": {
        "colab": {
          "base_uri": "https://localhost:8080/",
          "height": 301
        },
        "id": "wzDKyqW33Pv2",
        "outputId": "eac18647-7987-4bf1-8e92-933bcbf1901d"
      },
      "execution_count": null,
      "outputs": [
        {
          "output_type": "execute_result",
          "data": {
            "text/plain": [
              "Text(0.5, 0, 'stag_local max')"
            ]
          },
          "metadata": {},
          "execution_count": 94
        },
        {
          "output_type": "display_data",
          "data": {
            "text/plain": [
              "<Figure size 432x288 with 1 Axes>"
            ],
            "image/png": "[encoded data removed]"
          },
          "metadata": {
            "needs_background": "light"
          }
        }
      ]
    },
    {
      "cell_type": "code",
      "source": [
        "hare_global.maxim.plot(kind = 'hist')\n",
        "\n",
        "plt.ylim([0,30])\n",
        "plt.xlim([0,100])\n",
        "plt.xlabel('hare_global max')"
      ],
      "metadata": {
        "colab": {
          "base_uri": "https://localhost:8080/",
          "height": 301
        },
        "id": "uGOCvVyx36Wl",
        "outputId": "4b45acf2-f039-4160-c044-fd50d9706110"
      },
      "execution_count": null,
      "outputs": [
        {
          "output_type": "execute_result",
          "data": {
            "text/plain": [
              "Text(0.5, 0, 'hare_global max')"
            ]
          },
          "metadata": {},
          "execution_count": 95
        },
        {
          "output_type": "display_data",
          "data": {
            "text/plain": [
              "<Figure size 432x288 with 1 Axes>"
            ],
            "image/png": "[encoded data removed]"
          },
          "metadata": {
            "needs_background": "light"
          }
        }
      ]
    },
    {
      "cell_type": "code",
      "source": [
        "hare_local.maxim.plot(kind = 'hist')\n",
        "\n",
        "plt.xlim([0,100])\n",
        "plt.ylim([0,30])\n",
        "plt.xlabel('hare_local max')"
      ],
      "metadata": {
        "id": "lwcw43hTPlnp",
        "colab": {
          "base_uri": "https://localhost:8080/",
          "height": 301
        },
        "outputId": "211f0f97-4268-40e2-afac-4a860f8c50da"
      },
      "execution_count": null,
      "outputs": [
        {
          "output_type": "execute_result",
          "data": {
            "text/plain": [
              "Text(0.5, 0, 'hare_local max')"
            ]
          },
          "metadata": {},
          "execution_count": 96
        },
        {
          "output_type": "display_data",
          "data": {
            "text/plain": [
              "<Figure size 432x288 with 1 Axes>"
            ],
            "image/png": "[encoded data removed]"
          },
          "metadata": {
            "needs_background": "light"
          }
        }
      ]
    },
    {
      "cell_type": "code",
      "source": [
        "hare_global.maxim.plot(kind = 'hist')\n",
        "plt.xlabel('hare_global final')"
      ],
      "metadata": {
        "id": "KYxDt0jY9nL5"
      },
      "execution_count": null,
      "outputs": []
    }
  ]
}
